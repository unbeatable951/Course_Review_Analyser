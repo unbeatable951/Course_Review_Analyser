{
  "nbformat": 4,
  "nbformat_minor": 0,
  "metadata": {
    "colab": {
      "provenance": []
    },
    "kernelspec": {
      "name": "python3",
      "display_name": "Python 3"
    },
    "language_info": {
      "name": "python"
    }
  },
  "cells": [
    {
      "cell_type": "code",
      "source": [
        "!pip install fuzzywuzzy[speedup]\n"
      ],
      "metadata": {
        "colab": {
          "base_uri": "https://localhost:8080/"
        },
        "id": "yQUd0cgniZpz",
        "outputId": "57d124b0-1280-4bf9-8e5d-e7d257c29fd8"
      },
      "execution_count": null,
      "outputs": [
        {
          "output_type": "stream",
          "name": "stdout",
          "text": [
            "Collecting fuzzywuzzy[speedup]\n",
            "  Downloading fuzzywuzzy-0.18.0-py2.py3-none-any.whl.metadata (4.9 kB)\n",
            "Collecting python-levenshtein>=0.12 (from fuzzywuzzy[speedup])\n",
            "  Downloading python_levenshtein-0.27.1-py3-none-any.whl.metadata (3.7 kB)\n",
            "Collecting Levenshtein==0.27.1 (from python-levenshtein>=0.12->fuzzywuzzy[speedup])\n",
            "  Downloading levenshtein-0.27.1-cp311-cp311-manylinux_2_17_x86_64.manylinux2014_x86_64.whl.metadata (3.6 kB)\n",
            "Collecting rapidfuzz<4.0.0,>=3.9.0 (from Levenshtein==0.27.1->python-levenshtein>=0.12->fuzzywuzzy[speedup])\n",
            "  Downloading rapidfuzz-3.13.0-cp311-cp311-manylinux_2_17_x86_64.manylinux2014_x86_64.whl.metadata (12 kB)\n",
            "Downloading python_levenshtein-0.27.1-py3-none-any.whl (9.4 kB)\n",
            "Downloading levenshtein-0.27.1-cp311-cp311-manylinux_2_17_x86_64.manylinux2014_x86_64.whl (161 kB)\n",
            "\u001b[2K   \u001b[90m━━━━━━━━━━━━━━━━━━━━━━━━━━━━━━━━━━━━━━━━\u001b[0m \u001b[32m161.7/161.7 kB\u001b[0m \u001b[31m3.8 MB/s\u001b[0m eta \u001b[36m0:00:00\u001b[0m\n",
            "\u001b[?25hDownloading fuzzywuzzy-0.18.0-py2.py3-none-any.whl (18 kB)\n",
            "Downloading rapidfuzz-3.13.0-cp311-cp311-manylinux_2_17_x86_64.manylinux2014_x86_64.whl (3.1 MB)\n",
            "\u001b[2K   \u001b[90m━━━━━━━━━━━━━━━━━━━━━━━━━━━━━━━━━━━━━━━━\u001b[0m \u001b[32m3.1/3.1 MB\u001b[0m \u001b[31m30.9 MB/s\u001b[0m eta \u001b[36m0:00:00\u001b[0m\n",
            "\u001b[?25hInstalling collected packages: fuzzywuzzy, rapidfuzz, Levenshtein, python-levenshtein\n",
            "Successfully installed Levenshtein-0.27.1 fuzzywuzzy-0.18.0 python-levenshtein-0.27.1 rapidfuzz-3.13.0\n"
          ]
        }
      ]
    },
    {
      "cell_type": "code",
      "source": [
        "import pandas as pd\n",
        "\n",
        "# Load your datasets\n",
        "df_courses = pd.read_csv('/content/Coursera_courses.csv')      # course names, institutions, urls\n",
        "df_stats = pd.read_csv('/content/coursea_data.csv')            # ratings, difficulty, etc.\n",
        "df_reviews = pd.read_csv('/content/reviews.csv')               # text reviews + sentiment labels\n"
      ],
      "metadata": {
        "id": "eWa8fihckwZT"
      },
      "execution_count": null,
      "outputs": []
    },
    {
      "cell_type": "code",
      "source": [
        "import re\n",
        "\n",
        "def extract_slug(text):\n",
        "    # Extract course slug from URL or use name directly\n",
        "    if \"coursera.org\" in text:\n",
        "        match = re.search(r\"/(?:learn|specializations)/([a-zA-Z0-9\\-]+)\", text)\n",
        "        return match.group(1).replace('-', ' ') if match else text.lower()\n",
        "    else:\n",
        "        return text.lower()\n"
      ],
      "metadata": {
        "id": "RyRqOoyCs0Ty"
      },
      "execution_count": null,
      "outputs": []
    },
    {
      "cell_type": "code",
      "source": [
        "from sklearn.feature_extraction.text import CountVectorizer\n",
        "from sklearn.linear_model import LogisticRegression\n",
        "\n",
        "# Train a basic sentiment classifier on the reviews\n",
        "vectorizer = CountVectorizer()\n",
        "X = vectorizer.fit_transform(df_reviews['Review'])\n",
        "y = df_reviews['Label']\n",
        "\n",
        "model = LogisticRegression()\n",
        "model.fit(X, y)\n",
        "\n",
        "def predict_sentiment(sample_reviews):\n",
        "    X_sample = vectorizer.transform(sample_reviews)\n",
        "    return model.predict(X_sample)\n"
      ],
      "metadata": {
        "colab": {
          "base_uri": "https://localhost:8080/"
        },
        "id": "x011o0gxs3xh",
        "outputId": "539dcdf4-f04f-4dd7-f432-7238591554ed"
      },
      "execution_count": null,
      "outputs": [
        {
          "output_type": "stream",
          "name": "stderr",
          "text": [
            "/usr/local/lib/python3.11/dist-packages/sklearn/linear_model/_logistic.py:465: ConvergenceWarning: lbfgs failed to converge (status=1):\n",
            "STOP: TOTAL NO. OF ITERATIONS REACHED LIMIT.\n",
            "\n",
            "Increase the number of iterations (max_iter) or scale the data as shown in:\n",
            "    https://scikit-learn.org/stable/modules/preprocessing.html\n",
            "Please also refer to the documentation for alternative solver options:\n",
            "    https://scikit-learn.org/stable/modules/linear_model.html#logistic-regression\n",
            "  n_iter_i = _check_optimize_result(\n"
          ]
        }
      ]
    },
    {
      "cell_type": "code",
      "source": [
        "import difflib\n",
        "\n",
        "def analyze_course(user_input):\n",
        "    slug = extract_slug(user_input)\n",
        "\n",
        "    # Try matching against course names and IDs\n",
        "    all_names = df_courses['name'].dropna().str.lower().tolist()\n",
        "    all_ids = df_courses['course_id'].dropna().str.lower().tolist()\n",
        "    candidates = all_names + all_ids\n",
        "\n",
        "    best_match = difflib.get_close_matches(slug, candidates, n=1, cutoff=0.4)\n",
        "    if not best_match:\n",
        "        print(\"❌ No matching course found.\")\n",
        "        return\n",
        "\n",
        "    match = best_match[0]\n",
        "\n",
        "    matched = df_courses[df_courses['name'].str.lower() == match]\n",
        "    if matched.empty:\n",
        "        matched = df_courses[df_courses['course_id'].str.lower() == match]\n",
        "    if matched.empty:\n",
        "        print(\"❌ Still no exact match found.\")\n",
        "        return\n",
        "\n",
        "    course = matched.iloc[0]\n",
        "    course_name = course['name']\n",
        "    course_provider = course['institution']\n",
        "\n",
        "    print(f\"\\n✅ Course: {course_name}\")\n",
        "    print(f\"🏫 Offered by: {course_provider}\")\n",
        "\n",
        "    # Match course info from stats dataset\n",
        "    stats_match = df_stats[df_stats['course_title'].str.lower().str.contains(course_name.lower(), na=False)]\n",
        "    if not stats_match.empty:\n",
        "        stats = stats_match.iloc[0]\n",
        "        print(f\"⭐ Rating: {stats['course_rating']} / 5\")\n",
        "        print(f\"📊 Difficulty: {stats['course_difficulty']}\")\n",
        "        print(f\"🎓 Enrolled: {stats['course_students_enrolled']} students\")\n",
        "    else:\n",
        "        print(\"ℹ️ No rating/difficulty info found.\")\n",
        "\n",
        "    # Simulated reviews for now (can be linked later to course titles if available)\n",
        "    reviews = pd.Series([\n",
        "        \"Great and informative course!\",\n",
        "        \"Too basic, not what I expected.\",\n",
        "        \"Very detailed and engaging.\",\n",
        "        \"The content felt outdated.\",\n",
        "        \"Awesome projects and explanations!\"\n",
        "    ])\n",
        "\n",
        "    sentiments = predict_sentiment(reviews)\n",
        "    pos = sum(sentiments)\n",
        "    neg = len(sentiments) - pos\n",
        "\n",
        "    print(\"\\n📝 Simulated Sentiment Review Summary:\")\n",
        "    print(f\"👍 Positive Reviews: {pos}\")\n",
        "    print(f\"👎 Negative Reviews: {neg}\")\n",
        "\n",
        "    print(f\"\\n📘 Description: '{course_name}' is a course offered by {course_provider} on Coursera.\")\n"
      ],
      "metadata": {
        "id": "zm98rtygs3uW"
      },
      "execution_count": null,
      "outputs": []
    },
    {
      "cell_type": "code",
      "source": [
        "user_input = input(\"Enter course name or Coursera URL: \")\n",
        "analyze_course(user_input)\n"
      ],
      "metadata": {
        "colab": {
          "base_uri": "https://localhost:8080/"
        },
        "id": "t36kcmu5s3ry",
        "outputId": "457d8519-8de8-40ae-f29d-2698ea83fcaf"
      },
      "execution_count": null,
      "outputs": [
        {
          "output_type": "stream",
          "name": "stdout",
          "text": [
            "Enter course name or Coursera URL: AI For Everyone\n",
            "\n",
            "✅ Course: AI For Everyone\n",
            "🏫 Offered by: DeepLearning.AI\n",
            "⭐ Rating: 4.8 / 5\n",
            "📊 Difficulty: Beginner\n",
            "🎓 Enrolled: 350k students\n",
            "\n",
            "📝 Simulated Sentiment Review Summary:\n",
            "👍 Positive Reviews: 20\n",
            "👎 Negative Reviews: -15\n",
            "\n",
            "📘 Description: 'AI For Everyone' is a course offered by DeepLearning.AI on Coursera.\n"
          ]
        }
      ]
    },
    {
      "cell_type": "code",
      "source": [],
      "metadata": {
        "id": "I8StZsYZs3pI"
      },
      "execution_count": null,
      "outputs": []
    },
    {
      "cell_type": "code",
      "source": [],
      "metadata": {
        "id": "pWucEwMDhnik"
      },
      "execution_count": null,
      "outputs": []
    },
    {
      "cell_type": "code",
      "source": [],
      "metadata": {
        "id": "CCcKa5ZXhnft"
      },
      "execution_count": null,
      "outputs": []
    },
    {
      "cell_type": "code",
      "source": [],
      "metadata": {
        "id": "EuHSXLJ_hndt"
      },
      "execution_count": null,
      "outputs": []
    }
  ]
}